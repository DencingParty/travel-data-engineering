{
 "cells": [
  {
   "cell_type": "code",
   "execution_count": 1,
   "metadata": {},
   "outputs": [],
   "source": [
    "import numpy as np\n",
    "import pandas as pd"
   ]
  },
  {
   "cell_type": "code",
   "execution_count": 2,
   "metadata": {},
   "outputs": [
    {
     "name": "stdout",
     "output_type": "stream",
     "text": [
      "{'startDate': '2022-10-01', 'endDate': '2022-10-04', 'timeUnit': 'date', 'results': [{'title': '서울', 'keywords': ['종로맛집', '서울맛집'], 'data': [{'period': '2022-10-01', 'ratio': 8.33333}, {'period': '2022-10-02', 'ratio': 33.33333}, {'period': '2022-10-03', 'ratio': 16.66666}, {'period': '2022-10-04', 'ratio': 58.33333}]}, {'title': '부산', 'keywords': ['부산맛집', '부산맛집'], 'data': [{'period': '2022-10-01', 'ratio': 25}, {'period': '2022-10-02', 'ratio': 25}, {'period': '2022-10-03', 'ratio': 41.66666}, {'period': '2022-10-04', 'ratio': 100}]}]}\n"
     ]
    }
   ],
   "source": [
    "# https://seo.tbwakorea.com/blog/naver-seo-api-searching-data/\n",
    "\n",
    "import urllib.request\n",
    "import json\n",
    "\n",
    "client_id = \"1knJxJysJu6mhTaMWeZz\"\n",
    "client_secret = \"t4F3PeJrHz\"\n",
    "\n",
    "url = \"https://openapi.naver.com/v1/datalab/search\"\n",
    "body = \"{\\\n",
    "         \\\"startDate\\\":\\\"2022-10-01\\\",\\\n",
    "         \\\"endDate\\\":\\\"2022-10-04\\\",\\\n",
    "         \\\"timeUnit\\\":\\\"date\\\",\\\n",
    "         \\\"keywordGroups\\\":[{\\\"groupName\\\":\\\"서울\\\",\\\"keywords\\\":[\\\"종로맛집\\\",\\\"서울맛집\\\"]},\\\n",
    "                             {\\\"groupName\\\":\\\"부산\\\",\\\"keywords\\\":[\\\"부산맛집\\\",\\\"부산맛집\\\"]}\\\n",
    "                            ],\\\n",
    "         \\\"device\\\":\\\"pc\\\",\\\n",
    "         \\\"ages\\\":[\\\"1\\\",\\\"2\\\"],\\\n",
    "         \\\"gender\\\":\\\"f\\\"\\\n",
    "         }\";\n",
    "\n",
    "request = urllib.request.Request(url)\n",
    "request.add_header(\"X-Naver-Client-Id\",client_id)\n",
    "request.add_header(\"X-Naver-Client-Secret\",client_secret)\n",
    "request.add_header(\"Content-Type\",\"application/json\")\n",
    "\n",
    "response = urllib.request.urlopen(request, data=body.encode(\"utf-8\"))\n",
    "\n",
    "rescode = response.getcode()\n",
    "\n",
    "if(rescode==200):\n",
    "    response_body = response.read()\n",
    "    response_data = response_body.decode('utf-8')\n",
    "else:\n",
    "    print(\"Error Code:\" + rescode)\n",
    "\n",
    "result = json.loads(response_data)\n",
    "\n",
    "print(result)\n",
    "\n",
    "date = [a['period'] for a in result['results'][0]['data']]\n",
    "ratio_data1 = [a['ratio'] for a in result['results'][0]['data']]\n",
    "ratio_data2 = [a['ratio'] for a in result['results'][1]['data']]\n",
    "\n",
    "# pd.DataFrame({'date':date,\n",
    "#         'seraching_result':ratio_data1,\n",
    "#         'searching_result2':ratio_data2})"
   ]
  },
  {
   "cell_type": "code",
   "execution_count": 3,
   "metadata": {},
   "outputs": [
    {
     "data": {
      "text/plain": [
       "{'startDate': '2022-10-01',\n",
       " 'endDate': '2022-10-04',\n",
       " 'timeUnit': 'date',\n",
       " 'results': [{'title': '서울',\n",
       "   'keywords': ['종로맛집', '서울맛집'],\n",
       "   'data': [{'period': '2022-10-01', 'ratio': 8.33333},\n",
       "    {'period': '2022-10-02', 'ratio': 33.33333},\n",
       "    {'period': '2022-10-03', 'ratio': 16.66666},\n",
       "    {'period': '2022-10-04', 'ratio': 58.33333}]},\n",
       "  {'title': '부산',\n",
       "   'keywords': ['부산맛집', '부산맛집'],\n",
       "   'data': [{'period': '2022-10-01', 'ratio': 25},\n",
       "    {'period': '2022-10-02', 'ratio': 25},\n",
       "    {'period': '2022-10-03', 'ratio': 41.66666},\n",
       "    {'period': '2022-10-04', 'ratio': 100}]}]}"
      ]
     },
     "execution_count": 3,
     "metadata": {},
     "output_type": "execute_result"
    }
   ],
   "source": [
    "result"
   ]
  },
  {
   "cell_type": "code",
   "execution_count": 4,
   "metadata": {},
   "outputs": [
    {
     "data": {
      "text/plain": [
       "['2022-10-01', '2022-10-02', '2022-10-03', '2022-10-04']"
      ]
     },
     "execution_count": 4,
     "metadata": {},
     "output_type": "execute_result"
    }
   ],
   "source": [
    "date"
   ]
  },
  {
   "cell_type": "code",
   "execution_count": 5,
   "metadata": {},
   "outputs": [
    {
     "data": {
      "text/plain": [
       "[8.33333, 33.33333, 16.66666, 58.33333]"
      ]
     },
     "execution_count": 5,
     "metadata": {},
     "output_type": "execute_result"
    }
   ],
   "source": [
    "ratio_data1"
   ]
  },
  {
   "cell_type": "code",
   "execution_count": 6,
   "metadata": {},
   "outputs": [
    {
     "data": {
      "text/plain": [
       "[25, 25, 41.66666, 100]"
      ]
     },
     "execution_count": 6,
     "metadata": {},
     "output_type": "execute_result"
    }
   ],
   "source": [
    "ratio_data2"
   ]
  },
  {
   "cell_type": "code",
   "execution_count": 7,
   "metadata": {},
   "outputs": [
    {
     "data": {
      "text/html": [
       "<div>\n",
       "<style scoped>\n",
       "    .dataframe tbody tr th:only-of-type {\n",
       "        vertical-align: middle;\n",
       "    }\n",
       "\n",
       "    .dataframe tbody tr th {\n",
       "        vertical-align: top;\n",
       "    }\n",
       "\n",
       "    .dataframe thead th {\n",
       "        text-align: right;\n",
       "    }\n",
       "</style>\n",
       "<table border=\"1\" class=\"dataframe\">\n",
       "  <thead>\n",
       "    <tr style=\"text-align: right;\">\n",
       "      <th></th>\n",
       "      <th>date</th>\n",
       "      <th>seraching_result</th>\n",
       "      <th>searching_result2</th>\n",
       "    </tr>\n",
       "  </thead>\n",
       "  <tbody>\n",
       "    <tr>\n",
       "      <th>0</th>\n",
       "      <td>2022-10-01</td>\n",
       "      <td>8.33333</td>\n",
       "      <td>25.00000</td>\n",
       "    </tr>\n",
       "    <tr>\n",
       "      <th>1</th>\n",
       "      <td>2022-10-02</td>\n",
       "      <td>33.33333</td>\n",
       "      <td>25.00000</td>\n",
       "    </tr>\n",
       "    <tr>\n",
       "      <th>2</th>\n",
       "      <td>2022-10-03</td>\n",
       "      <td>16.66666</td>\n",
       "      <td>41.66666</td>\n",
       "    </tr>\n",
       "    <tr>\n",
       "      <th>3</th>\n",
       "      <td>2022-10-04</td>\n",
       "      <td>58.33333</td>\n",
       "      <td>100.00000</td>\n",
       "    </tr>\n",
       "  </tbody>\n",
       "</table>\n",
       "</div>"
      ],
      "text/plain": [
       "         date  seraching_result  searching_result2\n",
       "0  2022-10-01           8.33333           25.00000\n",
       "1  2022-10-02          33.33333           25.00000\n",
       "2  2022-10-03          16.66666           41.66666\n",
       "3  2022-10-04          58.33333          100.00000"
      ]
     },
     "execution_count": 7,
     "metadata": {},
     "output_type": "execute_result"
    }
   ],
   "source": [
    "pd.DataFrame({'date':date,\n",
    "        'seraching_result':ratio_data1,\n",
    "        'searching_result2':ratio_data2})"
   ]
  },
  {
   "cell_type": "code",
   "execution_count": null,
   "metadata": {},
   "outputs": [],
   "source": []
  },
  {
   "cell_type": "code",
   "execution_count": 8,
   "metadata": {},
   "outputs": [
    {
     "name": "stdout",
     "output_type": "stream",
     "text": [
      "{'startDate': '2022-10-01', 'endDate': '2022-10-04', 'timeUnit': 'date', 'results': [{'title': '서울', 'keywords': ['종로맛집', '서울맛집'], 'data': [{'period': '2022-10-01', 'ratio': 8.33333}, {'period': '2022-10-02', 'ratio': 33.33333}, {'period': '2022-10-03', 'ratio': 16.66666}, {'period': '2022-10-04', 'ratio': 58.33333}]}, {'title': '부산', 'keywords': ['부산맛집', '부산맛집'], 'data': [{'period': '2022-10-01', 'ratio': 25}, {'period': '2022-10-02', 'ratio': 25}, {'period': '2022-10-03', 'ratio': 41.66666}, {'period': '2022-10-04', 'ratio': 100}]}]}\n"
     ]
    }
   ],
   "source": [
    "import urllib.request\n",
    "import json\n",
    "\n",
    "client_id = \"1knJxJysJu6mhTaMWeZz\"\n",
    "client_secret = \"t4F3PeJrHz\"\n",
    "\n",
    "url = \"https://openapi.naver.com/v1/datalab/search\"\n",
    "\n",
    "# body를 딕셔너리 형식으로 작성\n",
    "body = {\n",
    "    \"startDate\": \"2022-10-01\",\n",
    "    \"endDate\": \"2022-10-04\",\n",
    "    \"timeUnit\": \"date\",\n",
    "    \"keywordGroups\": [\n",
    "        {\"groupName\": \"서울\", \"keywords\": [\"종로맛집\", \"서울맛집\"]},\n",
    "        {\"groupName\": \"부산\", \"keywords\": [\"부산맛집\", \"부산맛집\"]}\n",
    "    ],\n",
    "    \"device\": \"pc\",\n",
    "    \"ages\": [\"1\", \"2\"],\n",
    "    \"gender\": \"f\"\n",
    "}\n",
    "\n",
    "# 딕셔너리를 JSON 문자열로 변환\n",
    "body_json = json.dumps(body)\n",
    "\n",
    "request = urllib.request.Request(url)\n",
    "request.add_header(\"X-Naver-Client-Id\", client_id)\n",
    "request.add_header(\"X-Naver-Client-Secret\", client_secret)\n",
    "request.add_header(\"Content-Type\", \"application/json\")\n",
    "\n",
    "response = urllib.request.urlopen(request, data=body_json.encode(\"utf-8\"))\n",
    "\n",
    "rescode = response.getcode()\n",
    "\n",
    "if rescode == 200:\n",
    "    response_body = response.read()\n",
    "    response_data = response_body.decode('utf-8')\n",
    "else:\n",
    "    print(\"Error Code:\" + str(rescode))\n",
    "\n",
    "result = json.loads(response_data)\n",
    "\n",
    "print(result)\n",
    "\n",
    "# 결과 데이터 가공\n",
    "date = [a['period'] for a in result['results'][0]['data']]\n",
    "ratio_data1 = [a['ratio'] for a in result['results'][0]['data']]\n",
    "ratio_data2 = [a['ratio'] for a in result['results'][1]['data']]\n",
    "\n",
    "# pd.DataFrame({'date': date,\n",
    "#               'seraching_result': ratio_data1,\n",
    "#               'searching_result2': ratio_data2})\n"
   ]
  },
  {
   "cell_type": "code",
   "execution_count": null,
   "metadata": {},
   "outputs": [],
   "source": []
  },
  {
   "cell_type": "code",
   "execution_count": 6,
   "metadata": {},
   "outputs": [
    {
     "ename": "JSONDecodeError",
     "evalue": "Expecting value: line 1 column 1 (char 0)",
     "output_type": "error",
     "traceback": [
      "\u001b[1;31m---------------------------------------------------------------------------\u001b[0m",
      "\u001b[1;31mJSONDecodeError\u001b[0m                           Traceback (most recent call last)",
      "Cell \u001b[1;32mIn[6], line 27\u001b[0m\n\u001b[0;32m     21\u001b[0m \u001b[38;5;66;03m# # url 설정\u001b[39;00m\n\u001b[0;32m     22\u001b[0m \u001b[38;5;66;03m# for i, j in header.items():\u001b[39;00m\n\u001b[0;32m     23\u001b[0m \u001b[38;5;66;03m#     silver_url += \"&\" + str(i) + \"=\" + str(j)\u001b[39;00m\n\u001b[0;32m     24\u001b[0m \n\u001b[0;32m     25\u001b[0m \u001b[38;5;66;03m# request로 데이터 불러오기\u001b[39;00m\n\u001b[0;32m     26\u001b[0m response \u001b[38;5;241m=\u001b[39m requests\u001b[38;5;241m.\u001b[39mget(base_url)\n\u001b[1;32m---> 27\u001b[0m json\u001b[38;5;241m.\u001b[39mloads(response\u001b[38;5;241m.\u001b[39mcontent)\n",
      "File \u001b[1;32mc:\\Users\\aryij\\anaconda3\\envs\\football\\Lib\\json\\__init__.py:346\u001b[0m, in \u001b[0;36mloads\u001b[1;34m(s, cls, object_hook, parse_float, parse_int, parse_constant, object_pairs_hook, **kw)\u001b[0m\n\u001b[0;32m    341\u001b[0m     s \u001b[38;5;241m=\u001b[39m s\u001b[38;5;241m.\u001b[39mdecode(detect_encoding(s), \u001b[38;5;124m'\u001b[39m\u001b[38;5;124msurrogatepass\u001b[39m\u001b[38;5;124m'\u001b[39m)\n\u001b[0;32m    343\u001b[0m \u001b[38;5;28;01mif\u001b[39;00m (\u001b[38;5;28mcls\u001b[39m \u001b[38;5;129;01mis\u001b[39;00m \u001b[38;5;28;01mNone\u001b[39;00m \u001b[38;5;129;01mand\u001b[39;00m object_hook \u001b[38;5;129;01mis\u001b[39;00m \u001b[38;5;28;01mNone\u001b[39;00m \u001b[38;5;129;01mand\u001b[39;00m\n\u001b[0;32m    344\u001b[0m         parse_int \u001b[38;5;129;01mis\u001b[39;00m \u001b[38;5;28;01mNone\u001b[39;00m \u001b[38;5;129;01mand\u001b[39;00m parse_float \u001b[38;5;129;01mis\u001b[39;00m \u001b[38;5;28;01mNone\u001b[39;00m \u001b[38;5;129;01mand\u001b[39;00m\n\u001b[0;32m    345\u001b[0m         parse_constant \u001b[38;5;129;01mis\u001b[39;00m \u001b[38;5;28;01mNone\u001b[39;00m \u001b[38;5;129;01mand\u001b[39;00m object_pairs_hook \u001b[38;5;129;01mis\u001b[39;00m \u001b[38;5;28;01mNone\u001b[39;00m \u001b[38;5;129;01mand\u001b[39;00m \u001b[38;5;129;01mnot\u001b[39;00m kw):\n\u001b[1;32m--> 346\u001b[0m     \u001b[38;5;28;01mreturn\u001b[39;00m _default_decoder\u001b[38;5;241m.\u001b[39mdecode(s)\n\u001b[0;32m    347\u001b[0m \u001b[38;5;28;01mif\u001b[39;00m \u001b[38;5;28mcls\u001b[39m \u001b[38;5;129;01mis\u001b[39;00m \u001b[38;5;28;01mNone\u001b[39;00m:\n\u001b[0;32m    348\u001b[0m     \u001b[38;5;28mcls\u001b[39m \u001b[38;5;241m=\u001b[39m JSONDecoder\n",
      "File \u001b[1;32mc:\\Users\\aryij\\anaconda3\\envs\\football\\Lib\\json\\decoder.py:337\u001b[0m, in \u001b[0;36mJSONDecoder.decode\u001b[1;34m(self, s, _w)\u001b[0m\n\u001b[0;32m    332\u001b[0m \u001b[38;5;28;01mdef\u001b[39;00m \u001b[38;5;21mdecode\u001b[39m(\u001b[38;5;28mself\u001b[39m, s, _w\u001b[38;5;241m=\u001b[39mWHITESPACE\u001b[38;5;241m.\u001b[39mmatch):\n\u001b[0;32m    333\u001b[0m \u001b[38;5;250m    \u001b[39m\u001b[38;5;124;03m\"\"\"Return the Python representation of ``s`` (a ``str`` instance\u001b[39;00m\n\u001b[0;32m    334\u001b[0m \u001b[38;5;124;03m    containing a JSON document).\u001b[39;00m\n\u001b[0;32m    335\u001b[0m \n\u001b[0;32m    336\u001b[0m \u001b[38;5;124;03m    \"\"\"\u001b[39;00m\n\u001b[1;32m--> 337\u001b[0m     obj, end \u001b[38;5;241m=\u001b[39m \u001b[38;5;28mself\u001b[39m\u001b[38;5;241m.\u001b[39mraw_decode(s, idx\u001b[38;5;241m=\u001b[39m_w(s, \u001b[38;5;241m0\u001b[39m)\u001b[38;5;241m.\u001b[39mend())\n\u001b[0;32m    338\u001b[0m     end \u001b[38;5;241m=\u001b[39m _w(s, end)\u001b[38;5;241m.\u001b[39mend()\n\u001b[0;32m    339\u001b[0m     \u001b[38;5;28;01mif\u001b[39;00m end \u001b[38;5;241m!=\u001b[39m \u001b[38;5;28mlen\u001b[39m(s):\n",
      "File \u001b[1;32mc:\\Users\\aryij\\anaconda3\\envs\\football\\Lib\\json\\decoder.py:355\u001b[0m, in \u001b[0;36mJSONDecoder.raw_decode\u001b[1;34m(self, s, idx)\u001b[0m\n\u001b[0;32m    353\u001b[0m     obj, end \u001b[38;5;241m=\u001b[39m \u001b[38;5;28mself\u001b[39m\u001b[38;5;241m.\u001b[39mscan_once(s, idx)\n\u001b[0;32m    354\u001b[0m \u001b[38;5;28;01mexcept\u001b[39;00m \u001b[38;5;167;01mStopIteration\u001b[39;00m \u001b[38;5;28;01mas\u001b[39;00m err:\n\u001b[1;32m--> 355\u001b[0m     \u001b[38;5;28;01mraise\u001b[39;00m JSONDecodeError(\u001b[38;5;124m\"\u001b[39m\u001b[38;5;124mExpecting value\u001b[39m\u001b[38;5;124m\"\u001b[39m, s, err\u001b[38;5;241m.\u001b[39mvalue) \u001b[38;5;28;01mfrom\u001b[39;00m \u001b[38;5;28;01mNone\u001b[39;00m\n\u001b[0;32m    356\u001b[0m \u001b[38;5;28;01mreturn\u001b[39;00m obj, end\n",
      "\u001b[1;31mJSONDecodeError\u001b[0m: Expecting value: line 1 column 1 (char 0)"
     ]
    }
   ],
   "source": [
    "import requests\n",
    "import json\n",
    "\n",
    "\n",
    "# 공공데이터포털 API Key\n",
    "key = \"FT9tgZGuvcYh8PVMmu%2BJWOz6yrj7gmLrXbv2W0GKndqAF1zrIgdks1WSc3IsNW%2Bbkp46FkADxq6JwmqV7y7bGg%3D%3D\"\n",
    "\n",
    "# 공공데이터포털 API 헤더\n",
    "header = {\n",
    "    \"page\" : 1,\n",
    "    \"perPage\" : 2000,\n",
    "    \"serviceKey\" : key\n",
    "}\n",
    "\n",
    "# base_url = \"https://api.odcloud.kr/api\"\n",
    "# silver_url = \"/15004498/v1/uddi:61e313cc-0c98-4a4f-8e5b-dccbafcfaf8b?\"\n",
    "\n",
    "base_url = \"http://apis.data.go.kr/B551011/LocgoHubTarService/areaBasedList?serviceKey=\" + key + \"&numOfRows=10&pageNo=1&MobileOS=ETC&MobileApp=AppTest&baseYm=202404&areaCd=11&signguCd=11530\"\n",
    "\n",
    "\n",
    "# # url 설정\n",
    "# for i, j in header.items():\n",
    "#     silver_url += \"&\" + str(i) + \"=\" + str(j)\n",
    "\n",
    "# request로 데이터 불러오기\n",
    "response = requests.get(base_url)\n",
    "json.loads(response.content)\n",
    "# if response.status_code == 200:\n",
    "#     response_json = json.loads(response.content)\n",
    "#     print(\"정상 처리 되었습니다.\" + f\"(데이터 크기: {json.loads(response.content)['totalCount']})\")\n",
    "# else:\n",
    "#     print(\"error\")\n",
    "\n",
    "# silver_df = pd.DataFrame(json.loads(response.content)[\"data\"])\n",
    "# silver_df.head()"
   ]
  },
  {
   "cell_type": "code",
   "execution_count": null,
   "metadata": {},
   "outputs": [
    {
     "ename": "",
     "evalue": "",
     "output_type": "error",
     "traceback": [
      "\u001b[1;31mnotebook controller is DISPOSED. \n",
      "\u001b[1;31m자세한 내용은 Jupyter <a href='command:jupyter.viewOutput'>로그</a>를 참조하세요."
     ]
    },
    {
     "ename": "",
     "evalue": "",
     "output_type": "error",
     "traceback": [
      "\u001b[1;31mnotebook controller is DISPOSED. \n",
      "\u001b[1;31m자세한 내용은 Jupyter <a href='command:jupyter.viewOutput'>로그</a>를 참조하세요."
     ]
    },
    {
     "ename": "",
     "evalue": "",
     "output_type": "error",
     "traceback": [
      "\u001b[1;31mnotebook controller is DISPOSED. \n",
      "\u001b[1;31m자세한 내용은 Jupyter <a href='command:jupyter.viewOutput'>로그</a>를 참조하세요."
     ]
    },
    {
     "ename": "",
     "evalue": "",
     "output_type": "error",
     "traceback": [
      "\u001b[1;31mnotebook controller is DISPOSED. \n",
      "\u001b[1;31m자세한 내용은 Jupyter <a href='command:jupyter.viewOutput'>로그</a>를 참조하세요."
     ]
    },
    {
     "ename": "",
     "evalue": "",
     "output_type": "error",
     "traceback": [
      "\u001b[1;31mnotebook controller is DISPOSED. \n",
      "\u001b[1;31m자세한 내용은 Jupyter <a href='command:jupyter.viewOutput'>로그</a>를 참조하세요."
     ]
    },
    {
     "ename": "",
     "evalue": "",
     "output_type": "error",
     "traceback": [
      "\u001b[1;31mnotebook controller is DISPOSED. \n",
      "\u001b[1;31m자세한 내용은 Jupyter <a href='command:jupyter.viewOutput'>로그</a>를 참조하세요."
     ]
    }
   ],
   "source": []
  },
  {
   "cell_type": "code",
   "execution_count": null,
   "metadata": {},
   "outputs": [
    {
     "ename": "",
     "evalue": "",
     "output_type": "error",
     "traceback": [
      "\u001b[1;31mnotebook controller is DISPOSED. \n",
      "\u001b[1;31m자세한 내용은 Jupyter <a href='command:jupyter.viewOutput'>로그</a>를 참조하세요."
     ]
    },
    {
     "ename": "",
     "evalue": "",
     "output_type": "error",
     "traceback": [
      "\u001b[1;31mnotebook controller is DISPOSED. \n",
      "\u001b[1;31m자세한 내용은 Jupyter <a href='command:jupyter.viewOutput'>로그</a>를 참조하세요."
     ]
    },
    {
     "ename": "",
     "evalue": "",
     "output_type": "error",
     "traceback": [
      "\u001b[1;31mnotebook controller is DISPOSED. \n",
      "\u001b[1;31m자세한 내용은 Jupyter <a href='command:jupyter.viewOutput'>로그</a>를 참조하세요."
     ]
    },
    {
     "ename": "",
     "evalue": "",
     "output_type": "error",
     "traceback": [
      "\u001b[1;31mnotebook controller is DISPOSED. \n",
      "\u001b[1;31m자세한 내용은 Jupyter <a href='command:jupyter.viewOutput'>로그</a>를 참조하세요."
     ]
    },
    {
     "ename": "",
     "evalue": "",
     "output_type": "error",
     "traceback": [
      "\u001b[1;31mnotebook controller is DISPOSED. \n",
      "\u001b[1;31m자세한 내용은 Jupyter <a href='command:jupyter.viewOutput'>로그</a>를 참조하세요."
     ]
    },
    {
     "ename": "",
     "evalue": "",
     "output_type": "error",
     "traceback": [
      "\u001b[1;31mnotebook controller is DISPOSED. \n",
      "\u001b[1;31m자세한 내용은 Jupyter <a href='command:jupyter.viewOutput'>로그</a>를 참조하세요."
     ]
    }
   ],
   "source": []
  }
 ],
 "metadata": {
  "kernelspec": {
   "display_name": "base",
   "language": "python",
   "name": "python3"
  },
  "language_info": {
   "codemirror_mode": {
    "name": "ipython",
    "version": 3
   },
   "file_extension": ".py",
   "mimetype": "text/x-python",
   "name": "python",
   "nbconvert_exporter": "python",
   "pygments_lexer": "ipython3",
   "version": "3.10.15"
  }
 },
 "nbformat": 4,
 "nbformat_minor": 2
}
