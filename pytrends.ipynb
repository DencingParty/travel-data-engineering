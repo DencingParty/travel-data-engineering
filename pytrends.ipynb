{
 "cells": [
  {
   "cell_type": "code",
   "execution_count": 21,
   "metadata": {},
   "outputs": [],
   "source": [
    "import numpy as np\n",
    "import pandas as pd"
   ]
  },
  {
   "cell_type": "code",
   "execution_count": 1,
   "metadata": {},
   "outputs": [
    {
     "name": "stdout",
     "output_type": "stream",
     "text": [
      "             0\n",
      "0       메이플스토리\n",
      "1        국가장학금\n",
      "2          조정민\n",
      "3          귀혼M\n",
      "4          변우석\n",
      "5         스토커2\n",
      "6          위키드\n",
      "7   엔비디아 실적 발표\n",
      "8         ICBM\n",
      "9      임영웅 콘서트\n",
      "10          한화\n",
      "11         경희대\n",
      "12         김시원\n",
      "13        Nike\n",
      "14        대한민국\n",
      "15        한화생명\n",
      "16        좀비버스\n",
      "17          위츠\n",
      "18     젠트리피케이션\n",
      "19       스토브리그\n"
     ]
    }
   ],
   "source": [
    "from pytrends.request import TrendReq\n",
    "pytrends = TrendReq(hl='ko-KR', tz=540)\n",
    "df = pytrends.trending_searches(pn='south_korea')\n",
    "print(df)"
   ]
  },
  {
   "cell_type": "code",
   "execution_count": null,
   "metadata": {},
   "outputs": [],
   "source": []
  },
  {
   "cell_type": "code",
   "execution_count": 9,
   "metadata": {},
   "outputs": [],
   "source": [
    "# # install\n",
    "# pip install pytrends # 파이썬은 3.3 이상부터 / requests, lxml, pandas도 추가로 필요하다. \n",
    "\n",
    "# connect\n",
    "from pytrends.request import TrendReq\n",
    "pytrends = TrendReq(hl='ko', tz=540) # hl=host language, tz=time zone\n",
    "\n",
    "# setting\n",
    "kw_list = [\"서울여행\", \"부산여행\", \"제주여행\"] # 단 게 땡기니까 달달구리구리한 것들로 키워드 리스트 생성\n",
    "pytrends.build_payload(kw_list, cat=0, \n",
    "\t\t\t\t\t\ttimeframe='2022-12-01 2022-12-7', \n",
    "                        geo='KR', gprop='') # 데이터를 불러올 객체를 build 해준다. \n",
    "\n",
    "\n"
   ]
  },
  {
   "cell_type": "code",
   "execution_count": 14,
   "metadata": {},
   "outputs": [],
   "source": [
    "# 설정한 기간 동안 설정한 트렌드 지수\n",
    "data = pytrends.interest_over_time()"
   ]
  },
  {
   "cell_type": "code",
   "execution_count": 15,
   "metadata": {},
   "outputs": [
    {
     "data": {
      "text/html": [
       "<div>\n",
       "<style scoped>\n",
       "    .dataframe tbody tr th:only-of-type {\n",
       "        vertical-align: middle;\n",
       "    }\n",
       "\n",
       "    .dataframe tbody tr th {\n",
       "        vertical-align: top;\n",
       "    }\n",
       "\n",
       "    .dataframe thead th {\n",
       "        text-align: right;\n",
       "    }\n",
       "</style>\n",
       "<table border=\"1\" class=\"dataframe\">\n",
       "  <thead>\n",
       "    <tr style=\"text-align: right;\">\n",
       "      <th></th>\n",
       "      <th>서울여행</th>\n",
       "      <th>부산여행</th>\n",
       "      <th>제주여행</th>\n",
       "      <th>isPartial</th>\n",
       "    </tr>\n",
       "    <tr>\n",
       "      <th>date</th>\n",
       "      <th></th>\n",
       "      <th></th>\n",
       "      <th></th>\n",
       "      <th></th>\n",
       "    </tr>\n",
       "  </thead>\n",
       "  <tbody>\n",
       "    <tr>\n",
       "      <th>2022-12-01</th>\n",
       "      <td>0</td>\n",
       "      <td>0</td>\n",
       "      <td>0</td>\n",
       "      <td>False</td>\n",
       "    </tr>\n",
       "    <tr>\n",
       "      <th>2022-12-02</th>\n",
       "      <td>0</td>\n",
       "      <td>73</td>\n",
       "      <td>82</td>\n",
       "      <td>False</td>\n",
       "    </tr>\n",
       "    <tr>\n",
       "      <th>2022-12-03</th>\n",
       "      <td>0</td>\n",
       "      <td>0</td>\n",
       "      <td>88</td>\n",
       "      <td>False</td>\n",
       "    </tr>\n",
       "    <tr>\n",
       "      <th>2022-12-04</th>\n",
       "      <td>0</td>\n",
       "      <td>79</td>\n",
       "      <td>0</td>\n",
       "      <td>False</td>\n",
       "    </tr>\n",
       "    <tr>\n",
       "      <th>2022-12-05</th>\n",
       "      <td>0</td>\n",
       "      <td>85</td>\n",
       "      <td>0</td>\n",
       "      <td>False</td>\n",
       "    </tr>\n",
       "    <tr>\n",
       "      <th>2022-12-06</th>\n",
       "      <td>0</td>\n",
       "      <td>100</td>\n",
       "      <td>0</td>\n",
       "      <td>False</td>\n",
       "    </tr>\n",
       "    <tr>\n",
       "      <th>2022-12-07</th>\n",
       "      <td>0</td>\n",
       "      <td>0</td>\n",
       "      <td>93</td>\n",
       "      <td>False</td>\n",
       "    </tr>\n",
       "  </tbody>\n",
       "</table>\n",
       "</div>"
      ],
      "text/plain": [
       "            서울여행  부산여행  제주여행  isPartial\n",
       "date                                   \n",
       "2022-12-01     0     0     0      False\n",
       "2022-12-02     0    73    82      False\n",
       "2022-12-03     0     0    88      False\n",
       "2022-12-04     0    79     0      False\n",
       "2022-12-05     0    85     0      False\n",
       "2022-12-06     0   100     0      False\n",
       "2022-12-07     0     0    93      False"
      ]
     },
     "execution_count": 15,
     "metadata": {},
     "output_type": "execute_result"
    }
   ],
   "source": [
    "data"
   ]
  },
  {
   "cell_type": "code",
   "execution_count": 16,
   "metadata": {},
   "outputs": [
    {
     "ename": "TooManyRequestsError",
     "evalue": "The request failed: Google returned a response with code 429",
     "output_type": "error",
     "traceback": [
      "\u001b[1;31m---------------------------------------------------------------------------\u001b[0m",
      "\u001b[1;31mTooManyRequestsError\u001b[0m                      Traceback (most recent call last)",
      "Cell \u001b[1;32mIn[16], line 2\u001b[0m\n\u001b[0;32m      1\u001b[0m \u001b[38;5;66;03m# 지역별 트렌드 지수\u001b[39;00m\n\u001b[1;32m----> 2\u001b[0m \u001b[43mpytrends\u001b[49m\u001b[38;5;241;43m.\u001b[39;49m\u001b[43minterest_by_region\u001b[49m\u001b[43m(\u001b[49m\n\u001b[0;32m      3\u001b[0m \u001b[43m  \t\t\t\t\t\t\t\u001b[49m\u001b[43mresolution\u001b[49m\u001b[38;5;241;43m=\u001b[39;49m\u001b[38;5;124;43m'\u001b[39;49m\u001b[38;5;124;43mCOUNTRY\u001b[39;49m\u001b[38;5;124;43m'\u001b[39;49m\u001b[43m,\u001b[49m\u001b[43m \u001b[49m\u001b[38;5;66;43;03m# 시, 나라, 지하철..?, 지역 레벨로 설정 가능\u001b[39;49;00m\n\u001b[0;32m      4\u001b[0m \u001b[43m  \t\t\t\t\t\t\t\u001b[49m\u001b[43minc_low_vol\u001b[49m\u001b[38;5;241;43m=\u001b[39;49m\u001b[38;5;28;43;01mTrue\u001b[39;49;00m\u001b[43m,\u001b[49m\u001b[43m \u001b[49m\u001b[38;5;66;43;03m# 검색량이 많지 않은 지역도 포함할건지\u001b[39;49;00m\n\u001b[0;32m      5\u001b[0m \u001b[43m  \t\t\t\t\t\t\t\u001b[49m\u001b[43minc_geo_code\u001b[49m\u001b[38;5;241;43m=\u001b[39;49m\u001b[38;5;28;43;01mTrue\u001b[39;49;00m\u001b[43m \u001b[49m\u001b[38;5;66;43;03m# 국가명하고 iso코드 같이 표시할건지\u001b[39;49;00m\n\u001b[0;32m      6\u001b[0m \u001b[43m  \t\t\t\t\t\t\t\u001b[49m\u001b[43m)\u001b[49m \n",
      "File \u001b[1;32mc:\\Users\\aryij\\anaconda3\\envs\\de\\Lib\\site-packages\\pytrends\\request.py:340\u001b[0m, in \u001b[0;36mTrendReq.interest_by_region\u001b[1;34m(self, resolution, inc_low_vol, inc_geo_code)\u001b[0m\n\u001b[0;32m    337\u001b[0m region_payload[\u001b[38;5;124m'\u001b[39m\u001b[38;5;124mtz\u001b[39m\u001b[38;5;124m'\u001b[39m] \u001b[38;5;241m=\u001b[39m \u001b[38;5;28mself\u001b[39m\u001b[38;5;241m.\u001b[39mtz\n\u001b[0;32m    339\u001b[0m \u001b[38;5;66;03m# parse returned json\u001b[39;00m\n\u001b[1;32m--> 340\u001b[0m req_json \u001b[38;5;241m=\u001b[39m \u001b[38;5;28;43mself\u001b[39;49m\u001b[38;5;241;43m.\u001b[39;49m\u001b[43m_get_data\u001b[49m\u001b[43m(\u001b[49m\n\u001b[0;32m    341\u001b[0m \u001b[43m    \u001b[49m\u001b[43murl\u001b[49m\u001b[38;5;241;43m=\u001b[39;49m\u001b[43mTrendReq\u001b[49m\u001b[38;5;241;43m.\u001b[39;49m\u001b[43mINTEREST_BY_REGION_URL\u001b[49m\u001b[43m,\u001b[49m\n\u001b[0;32m    342\u001b[0m \u001b[43m    \u001b[49m\u001b[43mmethod\u001b[49m\u001b[38;5;241;43m=\u001b[39;49m\u001b[43mTrendReq\u001b[49m\u001b[38;5;241;43m.\u001b[39;49m\u001b[43mGET_METHOD\u001b[49m\u001b[43m,\u001b[49m\n\u001b[0;32m    343\u001b[0m \u001b[43m    \u001b[49m\u001b[43mtrim_chars\u001b[49m\u001b[38;5;241;43m=\u001b[39;49m\u001b[38;5;241;43m5\u001b[39;49m\u001b[43m,\u001b[49m\n\u001b[0;32m    344\u001b[0m \u001b[43m    \u001b[49m\u001b[43mparams\u001b[49m\u001b[38;5;241;43m=\u001b[39;49m\u001b[43mregion_payload\u001b[49m\u001b[43m,\u001b[49m\n\u001b[0;32m    345\u001b[0m \u001b[43m\u001b[49m\u001b[43m)\u001b[49m\n\u001b[0;32m    346\u001b[0m df \u001b[38;5;241m=\u001b[39m pd\u001b[38;5;241m.\u001b[39mDataFrame(req_json[\u001b[38;5;124m'\u001b[39m\u001b[38;5;124mdefault\u001b[39m\u001b[38;5;124m'\u001b[39m][\u001b[38;5;124m'\u001b[39m\u001b[38;5;124mgeoMapData\u001b[39m\u001b[38;5;124m'\u001b[39m])\n\u001b[0;32m    347\u001b[0m \u001b[38;5;28;01mif\u001b[39;00m (df\u001b[38;5;241m.\u001b[39mempty):\n",
      "File \u001b[1;32mc:\\Users\\aryij\\anaconda3\\envs\\de\\Lib\\site-packages\\pytrends\\request.py:159\u001b[0m, in \u001b[0;36mTrendReq._get_data\u001b[1;34m(self, url, method, trim_chars, **kwargs)\u001b[0m\n\u001b[0;32m    157\u001b[0m \u001b[38;5;28;01melse\u001b[39;00m:\n\u001b[0;32m    158\u001b[0m     \u001b[38;5;28;01mif\u001b[39;00m response\u001b[38;5;241m.\u001b[39mstatus_code \u001b[38;5;241m==\u001b[39m status_codes\u001b[38;5;241m.\u001b[39mcodes\u001b[38;5;241m.\u001b[39mtoo_many_requests:\n\u001b[1;32m--> 159\u001b[0m         \u001b[38;5;28;01mraise\u001b[39;00m exceptions\u001b[38;5;241m.\u001b[39mTooManyRequestsError\u001b[38;5;241m.\u001b[39mfrom_response(response)\n\u001b[0;32m    160\u001b[0m     \u001b[38;5;28;01mraise\u001b[39;00m exceptions\u001b[38;5;241m.\u001b[39mResponseError\u001b[38;5;241m.\u001b[39mfrom_response(response)\n",
      "\u001b[1;31mTooManyRequestsError\u001b[0m: The request failed: Google returned a response with code 429"
     ]
    }
   ],
   "source": [
    "# 지역별 트렌드 지수\n",
    "pytrends.interest_by_region(\n",
    "  \t\t\t\t\t\t\tresolution='COUNTRY', # 시, 나라, 지하철..?, 지역 레벨로 설정 가능\n",
    "  \t\t\t\t\t\t\tinc_low_vol=True, # 검색량이 많지 않은 지역도 포함할건지\n",
    "  \t\t\t\t\t\t\tinc_geo_code=True # 국가명하고 iso코드 같이 표시할건지\n",
    "  \t\t\t\t\t\t\t) "
   ]
  },
  {
   "cell_type": "code",
   "execution_count": null,
   "metadata": {},
   "outputs": [],
   "source": []
  },
  {
   "cell_type": "code",
   "execution_count": null,
   "metadata": {},
   "outputs": [],
   "source": []
  },
  {
   "cell_type": "code",
   "execution_count": 8,
   "metadata": {},
   "outputs": [
    {
     "name": "stdout",
     "output_type": "stream",
     "text": [
      "오늘의 대한민국 트렌드 키워드:\n",
      "1. 메이플스토리\n",
      "2. 국가장학금\n",
      "3. 조정민\n",
      "4. 귀혼M\n",
      "5. 변우석\n",
      "6. 스토커2\n",
      "7. 위키드\n",
      "8. 엔비디아 실적 발표\n",
      "9. ICBM\n",
      "10. 임영웅 콘서트\n",
      "11. 한화\n",
      "12. 경희대\n",
      "13. 김시원\n",
      "14. Nike\n",
      "15. 대한민국\n",
      "16. 한화생명\n",
      "17. 좀비버스\n",
      "18. 위츠\n",
      "19. 젠트리피케이션\n",
      "20. 스토브리그\n"
     ]
    }
   ],
   "source": [
    "from pytrends.request import TrendReq\n",
    "\n",
    "# pytrends 초기화 및 트렌드 검색\n",
    "pytrends = TrendReq(hl='ko', tz=540)\n",
    "kw_list = [\"\"]\n",
    "pytrends.build_payload(kw_list, geo='KR', timeframe='now 1-d')\n",
    "trending_searches_df = pytrends.trending_searches(pn='south_korea')\n",
    "top_keywords = trending_searches_df[0].tolist()\n",
    "\n",
    "# 트렌드 목록 출력\n",
    "print(\"오늘의 대한민국 트렌드 키워드:\")\n",
    "for i, keyword in enumerate(top_keywords, 1):\n",
    "    print(f\"{i}. {keyword}\")"
   ]
  },
  {
   "cell_type": "code",
   "execution_count": null,
   "metadata": {},
   "outputs": [],
   "source": []
  },
  {
   "cell_type": "code",
   "execution_count": null,
   "metadata": {},
   "outputs": [],
   "source": []
  }
 ],
 "metadata": {
  "kernelspec": {
   "display_name": "de",
   "language": "python",
   "name": "python3"
  },
  "language_info": {
   "codemirror_mode": {
    "name": "ipython",
    "version": 3
   },
   "file_extension": ".py",
   "mimetype": "text/x-python",
   "name": "python",
   "nbconvert_exporter": "python",
   "pygments_lexer": "ipython3",
   "version": "3.11.0"
  }
 },
 "nbformat": 4,
 "nbformat_minor": 2
}
